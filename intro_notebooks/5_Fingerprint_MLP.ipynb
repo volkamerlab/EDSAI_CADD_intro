{
  "nbformat": 4,
  "nbformat_minor": 0,
  "metadata": {
    "colab": {
      "provenance": []
    },
    "kernelspec": {
      "name": "python3",
      "display_name": "Python 3"
    },
    "language_info": {
      "name": "python"
    }
  },
  "cells": [
    {
      "cell_type": "code",
      "source": [
        "!pip install rdkit"
      ],
      "metadata": {
        "colab": {
          "base_uri": "https://localhost:8080/"
        },
        "id": "N8lU1-dVhFyf",
        "outputId": "98cb0bb5-1858-4003-f838-986100ee0582"
      },
      "execution_count": 3,
      "outputs": [
        {
          "output_type": "stream",
          "name": "stdout",
          "text": [
            "Collecting rdkit\n",
            "  Downloading rdkit-2024.9.4-cp311-cp311-manylinux_2_28_x86_64.whl.metadata (4.0 kB)\n",
            "Requirement already satisfied: numpy in /usr/local/lib/python3.11/dist-packages (from rdkit) (1.26.4)\n",
            "Requirement already satisfied: Pillow in /usr/local/lib/python3.11/dist-packages (from rdkit) (11.1.0)\n",
            "Downloading rdkit-2024.9.4-cp311-cp311-manylinux_2_28_x86_64.whl (34.2 MB)\n",
            "\u001b[2K   \u001b[90m━━━━━━━━━━━━━━━━━━━━━━━━━━━━━━━━━━━━━━━━\u001b[0m \u001b[32m34.2/34.2 MB\u001b[0m \u001b[31m10.5 MB/s\u001b[0m eta \u001b[36m0:00:00\u001b[0m\n",
            "\u001b[?25hInstalling collected packages: rdkit\n",
            "Successfully installed rdkit-2024.9.4\n"
          ]
        }
      ]
    },
    {
      "cell_type": "code",
      "execution_count": 4,
      "metadata": {
        "id": "QeHMdt1JXhiK"
      },
      "outputs": [],
      "source": [
        "import torch\n",
        "from torch import nn\n",
        "from torch import optim\n",
        "from torch.utils.data import Dataset, DataLoader\n",
        "from sklearn.model_selection import train_test_split\n",
        "\n",
        "from rdkit.Chem import rdFingerprintGenerator, MolFromSmiles\n",
        "\n",
        "import numpy as np\n",
        "import pandas as pd"
      ]
    },
    {
      "cell_type": "code",
      "source": [
        "class SolubilityDataset(Dataset):\n",
        "    def __init__(self, df):\n",
        "        self.fingerprints = torch.tensor(np.stack(df['fingerprint'])).type(torch.float)\n",
        "        self.labels = torch.tensor(df['Solubility'].values).type(torch.float)\n",
        "        assert len(self.fingerprints) == len(self.labels)\n",
        "\n",
        "    def __len__(self):\n",
        "        return len(self.labels)\n",
        "\n",
        "    def __getitem__(self, idx):\n",
        "        fingerprint = self.fingerprints[idx]\n",
        "        label = self.labels[idx]\n",
        "        return fingerprint, label"
      ],
      "metadata": {
        "id": "cgs9Oj_idBND"
      },
      "execution_count": 5,
      "outputs": []
    },
    {
      "cell_type": "code",
      "source": [
        "df = pd.read_csv('solubility.csv')\n",
        "\n",
        "mfpgen = rdFingerprintGenerator.GetMorganGenerator()\n",
        "smiles2fp = lambda smi: mfpgen.GetFingerprintAsNumPy(MolFromSmiles(smi)).astype(int)\n",
        "\n",
        "df['rdkit_molecule'] = df['SMILES'].map(MolFromSmiles)\n",
        "df['fingerprint'] = df['rdkit_molecule'].map(lambda mol: mfpgen.GetFingerprintAsNumPy(mol).astype(int))\n",
        "\n",
        "df_train, df_test = train_test_split(df, test_size=0.2, random_state=42)\n",
        "df_train, df_val = train_test_split(df_train, test_size=0.2, random_state=42)"
      ],
      "metadata": {
        "id": "RgSCH6mJercI"
      },
      "execution_count": 7,
      "outputs": []
    },
    {
      "cell_type": "code",
      "source": [
        "train_dataset = SolubilityDataset(df_train)\n",
        "test_dataset = SolubilityDataset(df_test)\n",
        "val_dataset = SolubilityDataset(df_val)\n",
        "\n",
        "train_loader = DataLoader(train_dataset, batch_size=32, shuffle=True)\n",
        "test_loader = DataLoader(test_dataset, batch_size=32)\n",
        "val_loader = DataLoader(val_dataset, batch_size=32)"
      ],
      "metadata": {
        "id": "RGamrotVdGHN"
      },
      "execution_count": 8,
      "outputs": []
    },
    {
      "cell_type": "code",
      "source": [
        "class SolubilityNet(nn.Module):\n",
        "    def __init__(self):\n",
        "        super().__init__()\n",
        "        self.stack = nn.Sequential(\n",
        "            nn.Linear(2048, 512),\n",
        "            nn.ReLU(),\n",
        "            nn.Linear(512, 512),\n",
        "            nn.ReLU(),\n",
        "            nn.Linear(512, 1)\n",
        "        )\n",
        "\n",
        "    def forward(self, x):\n",
        "        return self.stack(x)"
      ],
      "metadata": {
        "id": "vo1nm9OCdNG1"
      },
      "execution_count": 9,
      "outputs": []
    },
    {
      "cell_type": "code",
      "source": [
        "def train_step(model, optimizer, loader, criterion=nn.MSELoss()):\n",
        "    model.train()\n",
        "    total_loss = 0\n",
        "    for fingerprints, labels in loader:\n",
        "        optimizer.zero_grad()\n",
        "        outputs = model(fingerprints)\n",
        "        loss = criterion(outputs.squeeze(), labels)\n",
        "        loss.backward()\n",
        "        optimizer.step()\n",
        "        total_loss += loss.item() * len(labels)\n",
        "    return total_loss / len(loader.dataset)\n",
        "\n",
        "def test_step(model, loader, criterion=nn.L1Loss()):\n",
        "    model.eval()\n",
        "    valid_loss = 0.0\n",
        "    with torch.no_grad():\n",
        "        for fingerprints, labels in loader:\n",
        "            outputs = model(fingerprints)\n",
        "            valid_loss += criterion(outputs.squeeze(), labels).item()\n",
        "    valid_loss /= len(loader)\n",
        "    return valid_loss"
      ],
      "metadata": {
        "id": "IoTonoKDdS19"
      },
      "execution_count": 10,
      "outputs": []
    },
    {
      "cell_type": "code",
      "source": [
        "model = SolubilityNet()\n",
        "optimizer = optim.Adam(model.parameters(), lr=0.001)"
      ],
      "metadata": {
        "id": "ExOgngp8dTrO"
      },
      "execution_count": 11,
      "outputs": []
    },
    {
      "cell_type": "code",
      "source": [
        "num_epochs = 20\n",
        "train_losses, valid_losses = list(), list()\n",
        "for epoch in range(num_epochs):\n",
        "    train_loss = train_step(model, optimizer, train_loader)\n",
        "    val_loss = test_step(model, val_loader)\n",
        "\n",
        "    print(f'Epoch: {epoch + 1:03d}, Train Loss: {train_loss:.4f}, Validation Loss: {val_loss:.4f}')"
      ],
      "metadata": {
        "colab": {
          "base_uri": "https://localhost:8080/"
        },
        "id": "HfS1LBqKhecP",
        "outputId": "e2f3cfa5-2b12-48cf-8fd4-6f0bc09ad085"
      },
      "execution_count": null,
      "outputs": [
        {
          "output_type": "stream",
          "name": "stdout",
          "text": [
            "Epoch: 001, Train Loss: 2.7337, Validation Loss: 0.9858\n",
            "Epoch: 002, Train Loss: 1.1678, Validation Loss: 0.9532\n",
            "Epoch: 003, Train Loss: 0.6913, Validation Loss: 0.9419\n",
            "Epoch: 004, Train Loss: 0.4487, Validation Loss: 0.9067\n",
            "Epoch: 005, Train Loss: 0.3485, Validation Loss: 0.9263\n"
          ]
        }
      ]
    },
    {
      "cell_type": "code",
      "source": [
        "test_step(model, test_loader)"
      ],
      "metadata": {
        "id": "C0jdjMtThcH6"
      },
      "execution_count": null,
      "outputs": []
    }
  ]
}