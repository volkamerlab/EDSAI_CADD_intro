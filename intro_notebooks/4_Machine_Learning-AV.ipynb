{
 "cells": [
  {
   "cell_type": "markdown",
   "metadata": {
    "tags": []
   },
   "source": [
    "### Machine Learning Example Notebook\n",
    "\n"
   ]
  },
  {
   "cell_type": "markdown",
   "metadata": {},
   "source": [
    "### Imports "
   ]
  },
  {
   "cell_type": "code",
   "execution_count": 1,
   "metadata": {},
   "outputs": [],
   "source": [
    "import pandas as pd\n",
    "import numpy as np"
   ]
  },
  {
   "cell_type": "markdown",
   "metadata": {},
   "source": [
    "### Data preparation\n",
    "\n",
    "* Read input data from csv files\n",
    "* Calculate fingerprints\n",
    "* Get labels"
   ]
  },
  {
   "cell_type": "code",
   "execution_count": 2,
   "metadata": {
    "tags": []
   },
   "outputs": [
    {
     "data": {
      "text/html": [
       "<div>\n",
       "<style scoped>\n",
       "    .dataframe tbody tr th:only-of-type {\n",
       "        vertical-align: middle;\n",
       "    }\n",
       "\n",
       "    .dataframe tbody tr th {\n",
       "        vertical-align: top;\n",
       "    }\n",
       "\n",
       "    .dataframe thead th {\n",
       "        text-align: right;\n",
       "    }\n",
       "</style>\n",
       "<table border=\"1\" class=\"dataframe\">\n",
       "  <thead>\n",
       "    <tr style=\"text-align: right;\">\n",
       "      <th></th>\n",
       "      <th>Unnamed: 0</th>\n",
       "      <th>chembl_id</th>\n",
       "      <th>canonical_smiles</th>\n",
       "    </tr>\n",
       "  </thead>\n",
       "  <tbody>\n",
       "    <tr>\n",
       "      <th>0</th>\n",
       "      <td>5792</td>\n",
       "      <td>CHEMBL3946232</td>\n",
       "      <td>Fc1ccc(Nc2ncnc3cc(OCCCN4CCOCC4)c(NC(=O)C5=CCCC...</td>\n",
       "    </tr>\n",
       "    <tr>\n",
       "      <th>1</th>\n",
       "      <td>2318</td>\n",
       "      <td>CHEMBL443171</td>\n",
       "      <td>OC(=O)C1=C(C(=O)c2c(O)cc(O)cc2O1)c3ccc(O)cc3</td>\n",
       "    </tr>\n",
       "    <tr>\n",
       "      <th>2</th>\n",
       "      <td>911</td>\n",
       "      <td>CHEMBL163188</td>\n",
       "      <td>CN(C)c1cc2c(Nc3cccc(C)c3)ncnc2cn1</td>\n",
       "    </tr>\n",
       "    <tr>\n",
       "      <th>3</th>\n",
       "      <td>997</td>\n",
       "      <td>CHEMBL286343</td>\n",
       "      <td>Brc1cccc(Nc2ncnc3cc(OCCCn4ccnc4)c(NC(=O)C=C)cc...</td>\n",
       "    </tr>\n",
       "    <tr>\n",
       "      <th>4</th>\n",
       "      <td>2566</td>\n",
       "      <td>CHEMBL514436</td>\n",
       "      <td>CS(=O)(=O)CCNCCCCOc1ccc2ncnc(Nc3ccc(OCc4cccc(F...</td>\n",
       "    </tr>\n",
       "  </tbody>\n",
       "</table>\n",
       "</div>"
      ],
      "text/plain": [
       "   Unnamed: 0      chembl_id  \\\n",
       "0        5792  CHEMBL3946232   \n",
       "1        2318   CHEMBL443171   \n",
       "2         911   CHEMBL163188   \n",
       "3         997   CHEMBL286343   \n",
       "4        2566   CHEMBL514436   \n",
       "\n",
       "                                    canonical_smiles  \n",
       "0  Fc1ccc(Nc2ncnc3cc(OCCCN4CCOCC4)c(NC(=O)C5=CCCC...  \n",
       "1       OC(=O)C1=C(C(=O)c2c(O)cc(O)cc2O1)c3ccc(O)cc3  \n",
       "2                  CN(C)c1cc2c(Nc3cccc(C)c3)ncnc2cn1  \n",
       "3  Brc1cccc(Nc2ncnc3cc(OCCCn4ccnc4)c(NC(=O)C=C)cc...  \n",
       "4  CS(=O)(=O)CCNCCCCOc1ccc2ncnc(Nc3ccc(OCc4cccc(F...  "
      ]
     },
     "execution_count": 2,
     "metadata": {},
     "output_type": "execute_result"
    }
   ],
   "source": [
    "actives_df = pd.read_csv(\"../data/Chembl_EGFR_actives_ML.csv\")\n",
    "actives_df.head()"
   ]
  },
  {
   "cell_type": "code",
   "execution_count": 3,
   "metadata": {
    "tags": []
   },
   "outputs": [
    {
     "data": {
      "text/html": [
       "<div>\n",
       "<style scoped>\n",
       "    .dataframe tbody tr th:only-of-type {\n",
       "        vertical-align: middle;\n",
       "    }\n",
       "\n",
       "    .dataframe tbody tr th {\n",
       "        vertical-align: top;\n",
       "    }\n",
       "\n",
       "    .dataframe thead th {\n",
       "        text-align: right;\n",
       "    }\n",
       "</style>\n",
       "<table border=\"1\" class=\"dataframe\">\n",
       "  <thead>\n",
       "    <tr style=\"text-align: right;\">\n",
       "      <th></th>\n",
       "      <th>chembl_id</th>\n",
       "      <th>canonical_smiles</th>\n",
       "    </tr>\n",
       "  </thead>\n",
       "  <tbody>\n",
       "    <tr>\n",
       "      <th>0</th>\n",
       "      <td>CHEMBL3946232</td>\n",
       "      <td>Fc1ccc(Nc2ncnc3cc(OCCCN4CCOCC4)c(NC(=O)C5=CCCC...</td>\n",
       "    </tr>\n",
       "    <tr>\n",
       "      <th>1</th>\n",
       "      <td>CHEMBL443171</td>\n",
       "      <td>OC(=O)C1=C(C(=O)c2c(O)cc(O)cc2O1)c3ccc(O)cc3</td>\n",
       "    </tr>\n",
       "    <tr>\n",
       "      <th>2</th>\n",
       "      <td>CHEMBL163188</td>\n",
       "      <td>CN(C)c1cc2c(Nc3cccc(C)c3)ncnc2cn1</td>\n",
       "    </tr>\n",
       "    <tr>\n",
       "      <th>3</th>\n",
       "      <td>CHEMBL286343</td>\n",
       "      <td>Brc1cccc(Nc2ncnc3cc(OCCCn4ccnc4)c(NC(=O)C=C)cc...</td>\n",
       "    </tr>\n",
       "    <tr>\n",
       "      <th>4</th>\n",
       "      <td>CHEMBL514436</td>\n",
       "      <td>CS(=O)(=O)CCNCCCCOc1ccc2ncnc(Nc3ccc(OCc4cccc(F...</td>\n",
       "    </tr>\n",
       "  </tbody>\n",
       "</table>\n",
       "</div>"
      ],
      "text/plain": [
       "       chembl_id                                   canonical_smiles\n",
       "0  CHEMBL3946232  Fc1ccc(Nc2ncnc3cc(OCCCN4CCOCC4)c(NC(=O)C5=CCCC...\n",
       "1   CHEMBL443171       OC(=O)C1=C(C(=O)c2c(O)cc(O)cc2O1)c3ccc(O)cc3\n",
       "2   CHEMBL163188                  CN(C)c1cc2c(Nc3cccc(C)c3)ncnc2cn1\n",
       "3   CHEMBL286343  Brc1cccc(Nc2ncnc3cc(OCCCn4ccnc4)c(NC(=O)C=C)cc...\n",
       "4   CHEMBL514436  CS(=O)(=O)CCNCCCCOc1ccc2ncnc(Nc3ccc(OCc4cccc(F..."
      ]
     },
     "execution_count": 3,
     "metadata": {},
     "output_type": "execute_result"
    }
   ],
   "source": [
    "actives_df.drop('Unnamed: 0', axis=1, inplace=True)\n",
    "actives_df.head()"
   ]
  },
  {
   "cell_type": "code",
   "execution_count": 4,
   "metadata": {},
   "outputs": [
    {
     "data": {
      "text/html": [
       "<div>\n",
       "<style scoped>\n",
       "    .dataframe tbody tr th:only-of-type {\n",
       "        vertical-align: middle;\n",
       "    }\n",
       "\n",
       "    .dataframe tbody tr th {\n",
       "        vertical-align: top;\n",
       "    }\n",
       "\n",
       "    .dataframe thead th {\n",
       "        text-align: right;\n",
       "    }\n",
       "</style>\n",
       "<table border=\"1\" class=\"dataframe\">\n",
       "  <thead>\n",
       "    <tr style=\"text-align: right;\">\n",
       "      <th></th>\n",
       "      <th>chembl_id</th>\n",
       "      <th>canonical_smiles</th>\n",
       "    </tr>\n",
       "  </thead>\n",
       "  <tbody>\n",
       "    <tr>\n",
       "      <th>0</th>\n",
       "      <td>CHEMBL4066684</td>\n",
       "      <td>CC1=CC(=O)N(N=C1C(=O)Nc2ccc(Oc3ccnc4[nH]ccc34)...</td>\n",
       "    </tr>\n",
       "    <tr>\n",
       "      <th>1</th>\n",
       "      <td>CHEMBL344652</td>\n",
       "      <td>CN(C)\\N=N\\c1ccc2ncnc(N(C)c3ccccc3)c2c1</td>\n",
       "    </tr>\n",
       "    <tr>\n",
       "      <th>2</th>\n",
       "      <td>CHEMBL1929306</td>\n",
       "      <td>CCOc1ccccc1c2oc(SCc3ccccc3)nn2</td>\n",
       "    </tr>\n",
       "    <tr>\n",
       "      <th>3</th>\n",
       "      <td>CHEMBL144760</td>\n",
       "      <td>Oc1ccc(\\C=C(/C#N)\\C(=O)NCCCCCCNC(=O)\\C(=C\\c2cc...</td>\n",
       "    </tr>\n",
       "    <tr>\n",
       "      <th>4</th>\n",
       "      <td>CHEMBL1928886</td>\n",
       "      <td>Oc1ccc(CNc2ccc3ncnc(Nc4cccc(Cl)c4)c3c2)cc1</td>\n",
       "    </tr>\n",
       "  </tbody>\n",
       "</table>\n",
       "</div>"
      ],
      "text/plain": [
       "       chembl_id                                   canonical_smiles\n",
       "0  CHEMBL4066684  CC1=CC(=O)N(N=C1C(=O)Nc2ccc(Oc3ccnc4[nH]ccc34)...\n",
       "1   CHEMBL344652             CN(C)\\N=N\\c1ccc2ncnc(N(C)c3ccccc3)c2c1\n",
       "2  CHEMBL1929306                     CCOc1ccccc1c2oc(SCc3ccccc3)nn2\n",
       "3   CHEMBL144760  Oc1ccc(\\C=C(/C#N)\\C(=O)NCCCCCCNC(=O)\\C(=C\\c2cc...\n",
       "4  CHEMBL1928886         Oc1ccc(CNc2ccc3ncnc(Nc4cccc(Cl)c4)c3c2)cc1"
      ]
     },
     "execution_count": 4,
     "metadata": {},
     "output_type": "execute_result"
    }
   ],
   "source": [
    "inactives_df = pd.read_csv(\"../data/Chembl_EGFR_inactives_ML.csv\")\n",
    "inactives_df.drop('Unnamed: 0', axis=1, inplace=True)\n",
    "inactives_df.head()"
   ]
  },
  {
   "cell_type": "markdown",
   "metadata": {},
   "source": [
    "*Count number of actives and inactives*"
   ]
  },
  {
   "cell_type": "code",
   "execution_count": 5,
   "metadata": {},
   "outputs": [
    {
     "name": "stdout",
     "output_type": "stream",
     "text": [
      "Actives: 106 \t Inactives: 105\n"
     ]
    }
   ],
   "source": [
    "print(f\"Actives: {len(actives_df)} \\t Inactives: {len(inactives_df)}\")"
   ]
  },
  {
   "cell_type": "markdown",
   "metadata": {},
   "source": [
    "##### Collect molecules' smiles in array\n"
   ]
  },
  {
   "cell_type": "code",
   "execution_count": 6,
   "metadata": {},
   "outputs": [],
   "source": [
    "smiles_active = actives_df[\"canonical_smiles\"].tolist()\n",
    "smiles_inactive = inactives_df[\"canonical_smiles\"].tolist()"
   ]
  },
  {
   "cell_type": "markdown",
   "metadata": {},
   "source": [
    "##### Calculate molecular fingerprints"
   ]
  },
  {
   "cell_type": "code",
   "execution_count": 7,
   "metadata": {},
   "outputs": [],
   "source": [
    "from rdkit import Chem\n",
    "from rdkit.Chem import AllChem\n",
    "\n",
    "fingerprints_active = []\n",
    "fingerprints_inactive = []\n",
    "\n",
    "for smiles in smiles_active: \n",
    "    molecule = Chem.MolFromSmiles(smiles)\n",
    "    fingerprints_active.append(AllChem.GetMorganFingerprintAsBitVect(molecule, radius=2, nBits=1024))\n",
    "\n",
    "for smiles in smiles_inactive:\n",
    "    molecule = Chem.MolFromSmiles(smiles)\n",
    "    fingerprints_inactive.append(AllChem.GetMorganFingerprintAsBitVect(molecule, radius=2, nBits=1024))"
   ]
  },
  {
   "cell_type": "markdown",
   "metadata": {
    "tags": []
   },
   "source": [
    "Concatenate fingerprint arrays"
   ]
  },
  {
   "cell_type": "code",
   "execution_count": 8,
   "metadata": {
    "tags": []
   },
   "outputs": [],
   "source": [
    "fps = fingerprints_active + fingerprints_inactive"
   ]
  },
  {
   "cell_type": "markdown",
   "metadata": {},
   "source": [
    "##### Prepare classifier assignment\n",
    "* active = 1\n",
    "* inactive = 0"
   ]
  },
  {
   "cell_type": "code",
   "execution_count": 9,
   "metadata": {},
   "outputs": [
    {
     "data": {
      "text/plain": [
       "array([1., 1., 1., 1., 1., 1., 1., 1., 1., 1., 1., 1., 1., 1., 1., 1., 1.,\n",
       "       1., 1., 1., 1., 1., 1., 1., 1., 1., 1., 1., 1., 1., 1., 1., 1., 1.,\n",
       "       1., 1., 1., 1., 1., 1., 1., 1., 1., 1., 1., 1., 1., 1., 1., 1., 1.,\n",
       "       1., 1., 1., 1., 1., 1., 1., 1., 1., 1., 1., 1., 1., 1., 1., 1., 1.,\n",
       "       1., 1., 1., 1., 1., 1., 1., 1., 1., 1., 1., 1., 1., 1., 1., 1., 1.,\n",
       "       1., 1., 1., 1., 1., 1., 1., 1., 1., 1., 1., 1., 1., 1., 1., 1., 1.,\n",
       "       1., 1., 1., 1.])"
      ]
     },
     "execution_count": 9,
     "metadata": {},
     "output_type": "execute_result"
    }
   ],
   "source": [
    "# 'Active' = 1\n",
    "y_active = np.ones(len(fingerprints_active))\n",
    "y_active"
   ]
  },
  {
   "cell_type": "code",
   "execution_count": 10,
   "metadata": {},
   "outputs": [
    {
     "data": {
      "text/plain": [
       "array([0., 0., 0., 0., 0., 0., 0., 0., 0., 0., 0., 0., 0., 0., 0., 0., 0.,\n",
       "       0., 0., 0., 0., 0., 0., 0., 0., 0., 0., 0., 0., 0., 0., 0., 0., 0.,\n",
       "       0., 0., 0., 0., 0., 0., 0., 0., 0., 0., 0., 0., 0., 0., 0., 0., 0.,\n",
       "       0., 0., 0., 0., 0., 0., 0., 0., 0., 0., 0., 0., 0., 0., 0., 0., 0.,\n",
       "       0., 0., 0., 0., 0., 0., 0., 0., 0., 0., 0., 0., 0., 0., 0., 0., 0.,\n",
       "       0., 0., 0., 0., 0., 0., 0., 0., 0., 0., 0., 0., 0., 0., 0., 0., 0.,\n",
       "       0., 0., 0.])"
      ]
     },
     "execution_count": 10,
     "metadata": {},
     "output_type": "execute_result"
    }
   ],
   "source": [
    "# 'Inactive' = 0\n",
    "y_inactive = np.zeros(len(fingerprints_inactive))\n",
    "y_inactive"
   ]
  },
  {
   "cell_type": "markdown",
   "metadata": {},
   "source": [
    "Concatenate label arrays"
   ]
  },
  {
   "cell_type": "code",
   "execution_count": 11,
   "metadata": {},
   "outputs": [],
   "source": [
    "y = np.concatenate([y_active, y_inactive])"
   ]
  },
  {
   "cell_type": "markdown",
   "metadata": {},
   "source": [
    "### Random forest (RF)\n",
    "\n",
    "* Split data in test and training set\n",
    "* Train the RF model\n",
    "* Test the performance"
   ]
  },
  {
   "cell_type": "markdown",
   "metadata": {},
   "source": [
    "##### Split data in train and test set"
   ]
  },
  {
   "cell_type": "code",
   "execution_count": 12,
   "metadata": {
    "tags": []
   },
   "outputs": [],
   "source": [
    "from sklearn.model_selection import train_test_split"
   ]
  },
  {
   "cell_type": "code",
   "execution_count": 13,
   "metadata": {},
   "outputs": [],
   "source": [
    "X_train, X_test, y_train, y_test = train_test_split(fps, y, test_size=0.20)"
   ]
  },
  {
   "cell_type": "markdown",
   "metadata": {},
   "source": [
    "##### Train the RF model\n",
    "See http://scikit-learn.org/stable/modules/generated/sklearn.ensemble.RandomForestClassifier.html for an explanation of the parameter."
   ]
  },
  {
   "cell_type": "code",
   "execution_count": 14,
   "metadata": {},
   "outputs": [],
   "source": [
    "from sklearn.ensemble import RandomForestClassifier\n",
    "from sklearn import metrics"
   ]
  },
  {
   "cell_type": "code",
   "execution_count": 15,
   "metadata": {
    "tags": []
   },
   "outputs": [],
   "source": [
    "forest = RandomForestClassifier(n_jobs=-1, n_estimators=100, max_features=100)"
   ]
  },
  {
   "cell_type": "markdown",
   "metadata": {},
   "source": [
    "Fit the data (Learn the pattern)"
   ]
  },
  {
   "cell_type": "code",
   "execution_count": 16,
   "metadata": {},
   "outputs": [
    {
     "data": {
      "text/plain": [
       "RandomForestClassifier(max_features=100, n_jobs=-1)"
      ]
     },
     "execution_count": 16,
     "metadata": {},
     "output_type": "execute_result"
    }
   ],
   "source": [
    "forest.fit(X_train, y_train)"
   ]
  },
  {
   "cell_type": "markdown",
   "metadata": {},
   "source": [
    "##### Test performance of the model"
   ]
  },
  {
   "cell_type": "code",
   "execution_count": 17,
   "metadata": {},
   "outputs": [],
   "source": [
    "from sklearn.metrics import recall_score"
   ]
  },
  {
   "cell_type": "markdown",
   "metadata": {},
   "source": [
    "Predict the class (active/inactive) for the test data (X_test)"
   ]
  },
  {
   "cell_type": "code",
   "execution_count": 18,
   "metadata": {
    "tags": []
   },
   "outputs": [
    {
     "data": {
      "text/plain": [
       "array([1., 1., 1., 0., 1., 1., 0., 0., 1., 1.])"
      ]
     },
     "execution_count": 18,
     "metadata": {},
     "output_type": "execute_result"
    }
   ],
   "source": [
    "y_pred = forest.predict(X_test) \n",
    "y_pred[:10]"
   ]
  },
  {
   "cell_type": "markdown",
   "metadata": {},
   "source": [
    "Predict probabilites for the class annotation"
   ]
  },
  {
   "cell_type": "code",
   "execution_count": 19,
   "metadata": {
    "tags": []
   },
   "outputs": [
    {
     "data": {
      "text/plain": [
       "array([[0.39, 0.61],\n",
       "       [0.03, 0.97],\n",
       "       [0.07, 0.93],\n",
       "       [0.84, 0.16],\n",
       "       [0.2 , 0.8 ],\n",
       "       [0.03, 0.97],\n",
       "       [0.79, 0.21],\n",
       "       [0.6 , 0.4 ],\n",
       "       [0.05, 0.95],\n",
       "       [0.23, 0.77]])"
      ]
     },
     "execution_count": 19,
     "metadata": {},
     "output_type": "execute_result"
    }
   ],
   "source": [
    "y_prob = forest.predict_proba(X_test)\n",
    "y_prob[:10]"
   ]
  },
  {
   "cell_type": "markdown",
   "metadata": {},
   "source": [
    "Calculate the model accuracy on this test set"
   ]
  },
  {
   "cell_type": "code",
   "execution_count": 20,
   "metadata": {
    "tags": []
   },
   "outputs": [
    {
     "name": "stdout",
     "output_type": "stream",
     "text": [
      "Model accuracy: 0.79\n"
     ]
    }
   ],
   "source": [
    "accuracy = metrics.accuracy_score(y_test, y_pred)\n",
    "print(f\"Model accuracy: {accuracy:.2f}\")"
   ]
  },
  {
   "cell_type": "markdown",
   "metadata": {},
   "source": [
    "Calculate the area under the ROC durce (AUC)"
   ]
  },
  {
   "cell_type": "code",
   "execution_count": 21,
   "metadata": {},
   "outputs": [
    {
     "name": "stdout",
     "output_type": "stream",
     "text": [
      "Model AUC: 0.88\n"
     ]
    }
   ],
   "source": [
    "roc_auc = metrics.roc_auc_score(y_test, y_prob[:,1])  \n",
    "print(f\"Model AUC: {roc_auc:.2f}\")"
   ]
  },
  {
   "cell_type": "markdown",
   "metadata": {},
   "source": [
    "### Make predictions on a new data set\n",
    "Here: Test on FDA approved drugs"
   ]
  },
  {
   "cell_type": "code",
   "execution_count": 22,
   "metadata": {},
   "outputs": [
    {
     "data": {
      "text/html": [
       "<div>\n",
       "<style scoped>\n",
       "    .dataframe tbody tr th:only-of-type {\n",
       "        vertical-align: middle;\n",
       "    }\n",
       "\n",
       "    .dataframe tbody tr th {\n",
       "        vertical-align: top;\n",
       "    }\n",
       "\n",
       "    .dataframe thead th {\n",
       "        text-align: right;\n",
       "    }\n",
       "</style>\n",
       "<table border=\"1\" class=\"dataframe\">\n",
       "  <thead>\n",
       "    <tr style=\"text-align: right;\">\n",
       "      <th></th>\n",
       "      <th>smiles</th>\n",
       "    </tr>\n",
       "    <tr>\n",
       "      <th>names</th>\n",
       "      <th></th>\n",
       "    </tr>\n",
       "  </thead>\n",
       "  <tbody>\n",
       "    <tr>\n",
       "      <th>Gefitinib</th>\n",
       "      <td>COc1cc2ncnc(Nc3ccc(F)c(Cl)c3)c2cc1OCCCN1CCOCC1</td>\n",
       "    </tr>\n",
       "    <tr>\n",
       "      <th>Erlotinib</th>\n",
       "      <td>C#Cc1cccc(Nc2ncnc3cc(OCCOC)c(OCCOC)cc23)c1</td>\n",
       "    </tr>\n",
       "    <tr>\n",
       "      <th>Lapatinib</th>\n",
       "      <td>CS(=O)(=O)CCNCc1ccc(-c2ccc3ncnc(Nc4ccc(OCc5ccc...</td>\n",
       "    </tr>\n",
       "    <tr>\n",
       "      <th>Afatinib</th>\n",
       "      <td>CN(C)C/C=C/C(=O)Nc1cc2c(Nc3ccc(F)c(Cl)c3)ncnc2...</td>\n",
       "    </tr>\n",
       "    <tr>\n",
       "      <th>Osimertinib</th>\n",
       "      <td>C=CC(=O)Nc1cc(Nc2nccc(-c3cn(C)c4ccccc34)n2)c(O...</td>\n",
       "    </tr>\n",
       "  </tbody>\n",
       "</table>\n",
       "</div>"
      ],
      "text/plain": [
       "                                                        smiles\n",
       "names                                                         \n",
       "Gefitinib       COc1cc2ncnc(Nc3ccc(F)c(Cl)c3)c2cc1OCCCN1CCOCC1\n",
       "Erlotinib           C#Cc1cccc(Nc2ncnc3cc(OCCOC)c(OCCOC)cc23)c1\n",
       "Lapatinib    CS(=O)(=O)CCNCc1ccc(-c2ccc3ncnc(Nc4ccc(OCc5ccc...\n",
       "Afatinib     CN(C)C/C=C/C(=O)Nc1cc2c(Nc3ccc(F)c(Cl)c3)ncnc2...\n",
       "Osimertinib  C=CC(=O)Nc1cc(Nc2nccc(-c3cn(C)c4ccccc34)n2)c(O..."
      ]
     },
     "execution_count": 22,
     "metadata": {},
     "output_type": "execute_result"
    }
   ],
   "source": [
    "egfr_compounds = pd.read_csv(\"../data/EGFR.smi\", names=[\"smiles\", \"names\"], index_col=1)\n",
    "egfr_compounds.head()"
   ]
  },
  {
   "cell_type": "code",
   "execution_count": 23,
   "metadata": {},
   "outputs": [
    {
     "name": "stdout",
     "output_type": "stream",
     "text": [
      "Name\t\t\tPrediction\tProbability\n",
      "----\t\t\t----------\t-----------\n",
      "Gefitinib\t\t[1.]\t\t[[0.25 0.75]]\n",
      "Erlotinib\t\t[1.]\t\t[[0.03 0.97]]\n",
      "Lapatinib\t\t[1.]\t\t[[0.07 0.93]]\n",
      "Afatinib\t\t[1.]\t\t[[0.05 0.95]]\n",
      "Osimertinib\t\t[0.]\t\t[[0.62 0.38]]\n"
     ]
    }
   ],
   "source": [
    "print(\"Name\\t\\t\\tPrediction\\tProbability\")\n",
    "print(\"----\\t\\t\\t----------\\t-----------\")\n",
    "for name, row in egfr_compounds.iterrows():\n",
    "    molecule = Chem.MolFromSmiles(row[\"smiles\"])\n",
    "    egfr_fingerprints = AllChem.GetMorganFingerprintAsBitVect(molecule, radius=2, nBits=1024)\n",
    "    # shape of input has to be adapted \n",
    "    egfr_fingerprints =  np.reshape(egfr_fingerprints, (1, -1))\n",
    "    y_pred = forest.predict(egfr_fingerprints)\n",
    "    y_prob = forest.predict_proba(egfr_fingerprints)\n",
    "    print(name, y_pred, y_prob, sep=\"\\t\\t\")"
   ]
  },
  {
   "cell_type": "code",
   "execution_count": null,
   "metadata": {},
   "outputs": [],
   "source": []
  }
 ],
 "metadata": {
  "anaconda-cloud": {},
  "kernelspec": {
   "display_name": "Python 3 (ipykernel)",
   "language": "python",
   "name": "python3"
  },
  "language_info": {
   "codemirror_mode": {
    "name": "ipython",
    "version": 3
   },
   "file_extension": ".py",
   "mimetype": "text/x-python",
   "name": "python",
   "nbconvert_exporter": "python",
   "pygments_lexer": "ipython3",
   "version": "3.11.7"
  }
 },
 "nbformat": 4,
 "nbformat_minor": 4
}
